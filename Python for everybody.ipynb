{
 "cells": [
  {
   "cell_type": "code",
   "execution_count": 22,
   "metadata": {},
   "outputs": [],
   "source": [
    "bigval = None\n",
    "smallval = None"
   ]
  },
  {
   "cell_type": "code",
   "execution_count": 10,
   "metadata": {},
   "outputs": [
    {
     "name": "stdout",
     "output_type": "stream",
     "text": [
      "enter a number7\n",
      "enter a number2\n",
      "enter a numberbob\n",
      "Invalid input\n",
      "enter a number10\n",
      "enter a number4\n",
      "enter a numberdone\n",
      "Maximum is 10\n",
      "Minimum is 2\n"
     ]
    }
   ],
   "source": [
    "while True:\n",
    "    val = input('enter a number')\n",
    "    if val == 'done':\n",
    "        break\n",
    "    else:\n",
    "        try:\n",
    "            val = int(val)\n",
    "        except:\n",
    "            print('Invalid input')\n",
    "            continue\n",
    "    if bigval is None and smallval is None:\n",
    "        bigval = val\n",
    "    elif val > bigval:\n",
    "        bigval = val\n",
    "    elif smallval is None:\n",
    "        smallval = val\n",
    "    elif val < smallval:\n",
    "        smallval = val\n",
    "\n",
    "print('Maximum is',str(bigval))\n",
    "print('Minimum is',str(smallval))\n",
    "            "
   ]
  },
  {
   "cell_type": "code",
   "execution_count": 18,
   "metadata": {},
   "outputs": [
    {
     "name": "stdout",
     "output_type": "stream",
     "text": [
      "18\n",
      "    0.8475\n",
      "0.8475\n"
     ]
    }
   ],
   "source": [
    "text = \"X-DSPAM-Confidence:    0.8475\";\n",
    "ind = text.find(':')\n",
    "print(ind)\n",
    "num =text[ind+1:]\n",
    "print(num)\n",
    "ans = float(num.strip())\n",
    "print(ans)"
   ]
  },
  {
   "cell_type": "code",
   "execution_count": null,
   "metadata": {},
   "outputs": [],
   "source": [
    "# Use the file name mbox-short.txt as the file name\n",
    "fname = input(\"Enter file name: \")\n",
    "fh = open(fname)\n",
    "count = 0\n",
    "addon = 0\n",
    "for line in fh:\n",
    "    if not line.startswith(\"X-DSPAM-Confidence:\") : \n",
    "        continue\n",
    "    count = count + 1\n",
    "    ind = line.find(\":\")\n",
    "    num = line[ind+1 : ]\n",
    "    rnum = float(num.strip())\n",
    "    addon = addon + rnum\n",
    "    ave = addon / count\n",
    "print(\"Average spam confidence: \" + str(ave))\n"
   ]
  },
  {
   "cell_type": "code",
   "execution_count": null,
   "metadata": {},
   "outputs": [],
   "source": [
    "#Assignment 8.4"
   ]
  },
  {
   "cell_type": "code",
   "execution_count": null,
   "metadata": {},
   "outputs": [],
   "source": [
    "fh = open('romeo.txt')\n",
    "words = list()\n",
    "for line in fh:\n",
    "    text = line.split()\n",
    "    for val in text:\n",
    "        if val in words:\n",
    "            continue\n",
    "        else:\n",
    "            words.append(val)\n",
    "words.sort()\n",
    "print(words)\n",
    "        "
   ]
  },
  {
   "cell_type": "code",
   "execution_count": null,
   "metadata": {},
   "outputs": [],
   "source": [
    "#Assignment 8.5"
   ]
  },
  {
   "cell_type": "code",
   "execution_count": null,
   "metadata": {},
   "outputs": [],
   "source": [
    "fh = open('mbox-short.txt')\n",
    "count = 0\n",
    "for line in fh:\n",
    "    if line.startswith('From '):\n",
    "        count = count + 1\n",
    "        words = line.split()\n",
    "        print(words[1])\n",
    "\n",
    "print('There were', str(count),'lines in the file with From as the first word')\n"
   ]
  },
  {
   "cell_type": "code",
   "execution_count": null,
   "metadata": {},
   "outputs": [],
   "source": [
    "#Assignment 9.4"
   ]
  },
  {
   "cell_type": "code",
   "execution_count": null,
   "metadata": {},
   "outputs": [],
   "source": [
    "fh = open('mbox-short.txt')\n",
    "contact = dict()\n",
    "for line in fh:\n",
    "    if line.startswith('From '):\n",
    "        words = line.split()\n",
    "        address = words[1]\n",
    "        if address in contact:\n",
    "            contact[address] = contact[address] +1\n",
    "        else: \n",
    "            contact[address] = 1\n",
    "#print(contact)\n",
    "bigcount = None\n",
    "bigperson = None\n",
    "for k,v in contact.items():\n",
    "    if bigcount is None:\n",
    "        bigcount = v\n",
    "        bigperson = k\n",
    "    elif v > bigcount:\n",
    "        bigcount = v\n",
    "        bigperson = k\n",
    "\n",
    "print(bigperson,bigcount)"
   ]
  },
  {
   "cell_type": "code",
   "execution_count": null,
   "metadata": {},
   "outputs": [],
   "source": [
    "#name = input(\"Enter file:\")\n",
    "#if len(name) < 1 : \n",
    "name = \"mbox-short.txt\"\n",
    "handle = open(name)\n",
    "print(handle)\n",
    "names = list()\n",
    "for line in handle:\n",
    "    #line = line.strip()\n",
    "    #print(line)\n",
    "    if line.startswith('From '):\n",
    "        line = line.split()\n",
    "        address = line[1]\n",
    "        names.append(address)\n",
    "#print(names)\n",
    "people = dict()\n",
    "for x in names:\n",
    "    people[x] = people.get(x,0) + 1\n",
    "\n",
    "bigcount = 0\n",
    "bigkey = 0\n",
    "for person,count in people.items():\n",
    "    if count > bigcount:\n",
    "        bigcount = count\n",
    "        bigkey = person\n",
    "print(bigkey,bigcount)"
   ]
  },
  {
   "cell_type": "code",
   "execution_count": null,
   "metadata": {},
   "outputs": [],
   "source": [
    "#10-Tuples"
   ]
  },
  {
   "cell_type": "code",
   "execution_count": 19,
   "metadata": {},
   "outputs": [
    {
     "name": "stdout",
     "output_type": "stream",
     "text": [
      "[(1, 'b'), (10, 'a'), (22, 'c')]\n"
     ]
    }
   ],
   "source": [
    "c = {'a':10,'b':1,'c':22}\n",
    "print(sorted([(v,k) for k,v in c.items()]))"
   ]
  },
  {
   "cell_type": "code",
   "execution_count": null,
   "metadata": {},
   "outputs": [],
   "source": [
    "#Assignment 10.2"
   ]
  },
  {
   "cell_type": "code",
   "execution_count": null,
   "metadata": {},
   "outputs": [],
   "source": [
    "name = \"mbox-short.txt\"\n",
    "handle = open(name)\n",
    "times = list()\n",
    "for line in handle:\n",
    "    if line.startswith('From '):\n",
    "        line = line.split() \n",
    "        time = line[5]\n",
    "        times.append(time)\n",
    "#print(times)\n",
    "clock = dict()\n",
    "for time in times:\n",
    "    hour = time[0:2]\n",
    "    clock[hour] = clock.get(hour,0) + 1\n",
    "\n",
    "for k,v in sorted(clock.items()):\n",
    "    print(k,v)\n",
    "    "
   ]
  },
  {
   "cell_type": "code",
   "execution_count": null,
   "metadata": {},
   "outputs": [],
   "source": [
    "#Assignment 12.1"
   ]
  },
  {
   "cell_type": "code",
   "execution_count": 39,
   "metadata": {},
   "outputs": [
    {
     "name": "stdout",
     "output_type": "stream",
     "text": [
      "HTTP/1.1 200 OK\r\n",
      "Date: Fri, 21 May 2021 14:52:06 GMT\r\n",
      "Server: Apache/2.4.18 (Ubuntu)\r\n",
      "Last-Modified: Sat, 13 May 2017 11:22:22 GMT\r\n",
      "ETag: \"1d3-54f6609240717\"\r\n",
      "Accept-Ranges: bytes\r\n",
      "Content-Length: 467\r\n",
      "Cache-Control: max-age=0, no-cache, no-store, must-revalidate\r\n",
      "Pragma: no-cache\r\n",
      "Expires: Wed, 11 Jan 1984 05:00:00 GMT\r\n",
      "Connection: close\r\n",
      "Content-Type: text/plain\r\n",
      "\r\n",
      "Why should you learn to write programs?\n",
      "\n",
      "Writing programs (or programming) is a very creative \n",
      "and rewarding activity.  You can write programs for \n",
      "many reasons, ranging from making your living to solving\n",
      "a difficult data analysis problem to having fun to helping\n",
      "someone else solve a problem.  This book assumes that \n",
      "everyone needs to know how to program, and that once \n",
      "you know how to program you will figure out what you want \n",
      "to do with your newfound skills.  \n"
     ]
    }
   ],
   "source": [
    "import socket\n",
    "\n",
    "mysock = socket.socket(socket.AF_INET, socket.SOCK_STREAM)\n",
    "mysock.connect(('data.pr4e.org', 80))\n",
    "cmd = 'GET http://data.pr4e.org/intro-short.txt HTTP/1.0\\r\\n\\r\\n'.encode()\n",
    "mysock.send(cmd)\n",
    "\n",
    "while True:\n",
    "    data = mysock.recv(512)\n",
    "    if len(data) < 1:\n",
    "        break\n",
    "    print(data.decode(),end='')\n",
    "\n",
    "mysock.close()"
   ]
  },
  {
   "cell_type": "code",
   "execution_count": null,
   "metadata": {},
   "outputs": [],
   "source": [
    "#Assignment 12.2"
   ]
  },
  {
   "cell_type": "code",
   "execution_count": 2,
   "metadata": {},
   "outputs": [
    {
     "name": "stdout",
     "output_type": "stream",
     "text": [
      "Enter - http://py4e-data.dr-chuck.net/comments_1147648.html\n",
      "TAG: <span class=\"comments\">99</span>\n",
      "URL: None\n",
      "Contents: 99\n",
      "Attrs: {'class': ['comments']}\n",
      "TAG: <span class=\"comments\">98</span>\n",
      "URL: None\n",
      "Contents: 98\n",
      "Attrs: {'class': ['comments']}\n",
      "TAG: <span class=\"comments\">96</span>\n",
      "URL: None\n",
      "Contents: 96\n",
      "Attrs: {'class': ['comments']}\n",
      "TAG: <span class=\"comments\">92</span>\n",
      "URL: None\n",
      "Contents: 92\n",
      "Attrs: {'class': ['comments']}\n",
      "TAG: <span class=\"comments\">92</span>\n",
      "URL: None\n",
      "Contents: 92\n",
      "Attrs: {'class': ['comments']}\n",
      "TAG: <span class=\"comments\">90</span>\n",
      "URL: None\n",
      "Contents: 90\n",
      "Attrs: {'class': ['comments']}\n",
      "TAG: <span class=\"comments\">89</span>\n",
      "URL: None\n",
      "Contents: 89\n",
      "Attrs: {'class': ['comments']}\n",
      "TAG: <span class=\"comments\">88</span>\n",
      "URL: None\n",
      "Contents: 88\n",
      "Attrs: {'class': ['comments']}\n",
      "TAG: <span class=\"comments\">87</span>\n",
      "URL: None\n",
      "Contents: 87\n",
      "Attrs: {'class': ['comments']}\n",
      "TAG: <span class=\"comments\">86</span>\n",
      "URL: None\n",
      "Contents: 86\n",
      "Attrs: {'class': ['comments']}\n",
      "TAG: <span class=\"comments\">82</span>\n",
      "URL: None\n",
      "Contents: 82\n",
      "Attrs: {'class': ['comments']}\n",
      "TAG: <span class=\"comments\">79</span>\n",
      "URL: None\n",
      "Contents: 79\n",
      "Attrs: {'class': ['comments']}\n",
      "TAG: <span class=\"comments\">77</span>\n",
      "URL: None\n",
      "Contents: 77\n",
      "Attrs: {'class': ['comments']}\n",
      "TAG: <span class=\"comments\">76</span>\n",
      "URL: None\n",
      "Contents: 76\n",
      "Attrs: {'class': ['comments']}\n",
      "TAG: <span class=\"comments\">76</span>\n",
      "URL: None\n",
      "Contents: 76\n",
      "Attrs: {'class': ['comments']}\n",
      "TAG: <span class=\"comments\">69</span>\n",
      "URL: None\n",
      "Contents: 69\n",
      "Attrs: {'class': ['comments']}\n",
      "TAG: <span class=\"comments\">66</span>\n",
      "URL: None\n",
      "Contents: 66\n",
      "Attrs: {'class': ['comments']}\n",
      "TAG: <span class=\"comments\">66</span>\n",
      "URL: None\n",
      "Contents: 66\n",
      "Attrs: {'class': ['comments']}\n",
      "TAG: <span class=\"comments\">65</span>\n",
      "URL: None\n",
      "Contents: 65\n",
      "Attrs: {'class': ['comments']}\n",
      "TAG: <span class=\"comments\">62</span>\n",
      "URL: None\n",
      "Contents: 62\n",
      "Attrs: {'class': ['comments']}\n",
      "TAG: <span class=\"comments\">58</span>\n",
      "URL: None\n",
      "Contents: 58\n",
      "Attrs: {'class': ['comments']}\n",
      "TAG: <span class=\"comments\">56</span>\n",
      "URL: None\n",
      "Contents: 56\n",
      "Attrs: {'class': ['comments']}\n",
      "TAG: <span class=\"comments\">54</span>\n",
      "URL: None\n",
      "Contents: 54\n",
      "Attrs: {'class': ['comments']}\n",
      "TAG: <span class=\"comments\">51</span>\n",
      "URL: None\n",
      "Contents: 51\n",
      "Attrs: {'class': ['comments']}\n",
      "TAG: <span class=\"comments\">51</span>\n",
      "URL: None\n",
      "Contents: 51\n",
      "Attrs: {'class': ['comments']}\n",
      "TAG: <span class=\"comments\">46</span>\n",
      "URL: None\n",
      "Contents: 46\n",
      "Attrs: {'class': ['comments']}\n",
      "TAG: <span class=\"comments\">45</span>\n",
      "URL: None\n",
      "Contents: 45\n",
      "Attrs: {'class': ['comments']}\n",
      "TAG: <span class=\"comments\">44</span>\n",
      "URL: None\n",
      "Contents: 44\n",
      "Attrs: {'class': ['comments']}\n",
      "TAG: <span class=\"comments\">43</span>\n",
      "URL: None\n",
      "Contents: 43\n",
      "Attrs: {'class': ['comments']}\n",
      "TAG: <span class=\"comments\">39</span>\n",
      "URL: None\n",
      "Contents: 39\n",
      "Attrs: {'class': ['comments']}\n",
      "TAG: <span class=\"comments\">35</span>\n",
      "URL: None\n",
      "Contents: 35\n",
      "Attrs: {'class': ['comments']}\n",
      "TAG: <span class=\"comments\">33</span>\n",
      "URL: None\n",
      "Contents: 33\n",
      "Attrs: {'class': ['comments']}\n",
      "TAG: <span class=\"comments\">27</span>\n",
      "URL: None\n",
      "Contents: 27\n",
      "Attrs: {'class': ['comments']}\n",
      "TAG: <span class=\"comments\">26</span>\n",
      "URL: None\n",
      "Contents: 26\n",
      "Attrs: {'class': ['comments']}\n",
      "TAG: <span class=\"comments\">25</span>\n",
      "URL: None\n",
      "Contents: 25\n",
      "Attrs: {'class': ['comments']}\n",
      "TAG: <span class=\"comments\">25</span>\n",
      "URL: None\n",
      "Contents: 25\n",
      "Attrs: {'class': ['comments']}\n",
      "TAG: <span class=\"comments\">24</span>\n",
      "URL: None\n",
      "Contents: 24\n",
      "Attrs: {'class': ['comments']}\n",
      "TAG: <span class=\"comments\">19</span>\n",
      "URL: None\n",
      "Contents: 19\n",
      "Attrs: {'class': ['comments']}\n",
      "TAG: <span class=\"comments\">18</span>\n",
      "URL: None\n",
      "Contents: 18\n",
      "Attrs: {'class': ['comments']}\n",
      "TAG: <span class=\"comments\">17</span>\n",
      "URL: None\n",
      "Contents: 17\n",
      "Attrs: {'class': ['comments']}\n",
      "TAG: <span class=\"comments\">15</span>\n",
      "URL: None\n",
      "Contents: 15\n",
      "Attrs: {'class': ['comments']}\n",
      "TAG: <span class=\"comments\">11</span>\n",
      "URL: None\n",
      "Contents: 11\n",
      "Attrs: {'class': ['comments']}\n",
      "TAG: <span class=\"comments\">10</span>\n",
      "URL: None\n",
      "Contents: 10\n",
      "Attrs: {'class': ['comments']}\n",
      "TAG: <span class=\"comments\">10</span>\n",
      "URL: None\n",
      "Contents: 10\n",
      "Attrs: {'class': ['comments']}\n",
      "TAG: <span class=\"comments\">9</span>\n",
      "URL: None\n",
      "Contents: 9\n",
      "Attrs: {'class': ['comments']}\n",
      "TAG: <span class=\"comments\">7</span>\n",
      "URL: None\n",
      "Contents: 7\n",
      "Attrs: {'class': ['comments']}\n",
      "TAG: <span class=\"comments\">7</span>\n",
      "URL: None\n",
      "Contents: 7\n",
      "Attrs: {'class': ['comments']}\n",
      "TAG: <span class=\"comments\">5</span>\n",
      "URL: None\n",
      "Contents: 5\n",
      "Attrs: {'class': ['comments']}\n",
      "TAG: <span class=\"comments\">4</span>\n",
      "URL: None\n",
      "Contents: 4\n",
      "Attrs: {'class': ['comments']}\n",
      "TAG: <span class=\"comments\">1</span>\n",
      "URL: None\n",
      "Contents: 1\n",
      "Attrs: {'class': ['comments']}\n",
      "50\n",
      "2450\n"
     ]
    }
   ],
   "source": [
    "# To run this, download the BeautifulSoup zip file\n",
    "# http://www.py4e.com/code3/bs4.zip\n",
    "# and unzip it in the same directory as this file\n",
    "\n",
    "from urllib.request import urlopen\n",
    "from bs4 import BeautifulSoup\n",
    "import ssl\n",
    "\n",
    "# Ignore SSL certificate errors\n",
    "ctx = ssl.create_default_context()\n",
    "ctx.check_hostname = False\n",
    "ctx.verify_mode = ssl.CERT_NONE\n",
    "\n",
    "url = input('Enter - ')\n",
    "html = urlopen(url, context=ctx).read()\n",
    "soup = BeautifulSoup(html, \"html.parser\")\n",
    "\n",
    "# Retrieve all of the anchor tags\n",
    "tags = soup('span')\n",
    "count = 0\n",
    "total = 0\n",
    "for tag in tags:\n",
    "    # Look at the parts of a tag\n",
    "    print('TAG:', tag)\n",
    "    print('URL:', tag.get('href', None))\n",
    "    print('Contents:', tag.contents[0])\n",
    "    print('Attrs:', tag.attrs)\n",
    "    count = count + 1\n",
    "    total = total + int(tag.contents[0])\n",
    "\n",
    "print(count)\n",
    "print(total)\n"
   ]
  },
  {
   "cell_type": "code",
   "execution_count": null,
   "metadata": {},
   "outputs": [],
   "source": [
    "#Assignment 12.3"
   ]
  },
  {
   "cell_type": "code",
   "execution_count": 27,
   "metadata": {
    "scrolled": true
   },
   "outputs": [
    {
     "name": "stdout",
     "output_type": "stream",
     "text": [
      "Enter URL - http://py4e-data.dr-chuck.net/known_by_Fionnah.html\n",
      "Enter count - 7\n",
      "Enter position - 18\n",
      "http://py4e-data.dr-chuck.net/known_by_Atom.html\n",
      "http://py4e-data.dr-chuck.net/known_by_Abiya.html\n",
      "http://py4e-data.dr-chuck.net/known_by_Leechan.html\n",
      "http://py4e-data.dr-chuck.net/known_by_Lael.html\n",
      "http://py4e-data.dr-chuck.net/known_by_Aadit.html\n",
      "http://py4e-data.dr-chuck.net/known_by_Sihaam.html\n",
      "http://py4e-data.dr-chuck.net/known_by_Kaydi.html\n",
      "Kaydi\n"
     ]
    }
   ],
   "source": [
    "# To run this, download the BeautifulSoup zip file\n",
    "# http://www.py4e.com/code3/bs4.zip\n",
    "# and unzip it in the same directory as this file\n",
    "\n",
    "import urllib.request, urllib.parse, urllib.error\n",
    "from bs4 import BeautifulSoup\n",
    "import ssl\n",
    "import re\n",
    "\n",
    "# Ignore SSL certificate errors\n",
    "ctx = ssl.create_default_context()\n",
    "ctx.check_hostname = False\n",
    "ctx.verify_mode = ssl.CERT_NONE\n",
    "\n",
    "url = input('Enter URL - ')\n",
    "count = int(input('Enter count - '))\n",
    "position = int(input('Enter position - ')) - 1\n",
    "html = urllib.request.urlopen(url, context=ctx).read()\n",
    "soup = BeautifulSoup(html, 'html.parser')\n",
    "\n",
    "# Retrieve all of the anchor tags\n",
    "tags = soup('a')\n",
    "sequence = list()\n",
    "#print(tags)\n",
    "for i in range(count):\n",
    "    link = tags[position].get('href', None)\n",
    "    print(link)\n",
    "    sequence.append(tags[position].contents[0])\n",
    "    html = urllib.request.urlopen(link, context=ctx).read()\n",
    "    soup = BeautifulSoup(html, 'html.parser')\n",
    "    tags = soup('a')\n",
    "    link = tags[position].get('href', None)\n",
    "\n",
    "print(sequence[-1])\n",
    "\n"
   ]
  },
  {
   "cell_type": "code",
   "execution_count": 26,
   "metadata": {},
   "outputs": [
    {
     "data": {
      "text/plain": [
       "bs4.element.ResultSet"
      ]
     },
     "execution_count": 26,
     "metadata": {},
     "output_type": "execute_result"
    }
   ],
   "source": [
    "#重点是在loop里改变读取的url获取新的html"
   ]
  },
  {
   "cell_type": "code",
   "execution_count": null,
   "metadata": {},
   "outputs": [],
   "source": [
    "#Assignment 13.1"
   ]
  },
  {
   "cell_type": "code",
   "execution_count": 10,
   "metadata": {},
   "outputs": [
    {
     "name": "stdout",
     "output_type": "stream",
     "text": [
      "Enter -http://py4e-data.dr-chuck.net/comments_1147650.xml\n",
      "Retrieving  http://py4e-data.dr-chuck.net/comments_1147650.xml\n",
      "Retrieved 4222 characters\n",
      "Count: 50\n",
      "Sum: 2470.0\n"
     ]
    }
   ],
   "source": [
    "import urllib.request\n",
    "import xml.etree.ElementTree as ET\n",
    "\n",
    "\n",
    "url = input('Enter -')\n",
    "print('Retrieving ',url)\n",
    "uh = urllib.request.urlopen(url)\n",
    "\n",
    "data = uh.read()\n",
    "print('Retrieved',len(data),'characters')\n",
    "# print(data.decode())\n",
    "tree = ET.fromstring(data)\n",
    "\n",
    "results = tree.findall('comments/comment')\n",
    "# print(results)\n",
    "print('Count:',len(results))\n",
    "total = 0\n",
    "for result in results:\n",
    "    count = result.find('count').text\n",
    "    total = total + float(count)\n",
    "\n",
    "print('Sum:',total)\n"
   ]
  },
  {
   "cell_type": "code",
   "execution_count": null,
   "metadata": {},
   "outputs": [],
   "source": [
    "#Assignment 13.2"
   ]
  },
  {
   "cell_type": "code",
   "execution_count": 22,
   "metadata": {},
   "outputs": [
    {
     "name": "stdout",
     "output_type": "stream",
     "text": [
      "Enter location:http://py4e-data.dr-chuck.net/comments_1147651.json\n",
      "Retrieving http://py4e-data.dr-chuck.net/comments_1147651.json\n",
      "Retrieved 2726 characters\n",
      "Count: 50\n",
      "Sum: 2632.0\n"
     ]
    }
   ],
   "source": [
    "import json\n",
    "import urllib.request,urllib.parse\n",
    "\n",
    "url = input('Enter location:')\n",
    "print('Retrieving',url)\n",
    "uh = urllib.request.urlopen(url)\n",
    "data = uh.read()\n",
    "print('Retrieved',len(data),'characters')\n",
    "info = json.loads(data)\n",
    "# print(info)\n",
    "print('Count:',len(info['comments']))\n",
    "total = 0\n",
    "\n",
    "for comment in info['comments']:\n",
    "    total = total + float(comment['count'])\n",
    "print('Sum:',total)"
   ]
  },
  {
   "cell_type": "code",
   "execution_count": null,
   "metadata": {},
   "outputs": [],
   "source": []
  }
 ],
 "metadata": {
  "kernelspec": {
   "display_name": "Python 3",
   "language": "python",
   "name": "python3"
  },
  "language_info": {
   "codemirror_mode": {
    "name": "ipython",
    "version": 3
   },
   "file_extension": ".py",
   "mimetype": "text/x-python",
   "name": "python",
   "nbconvert_exporter": "python",
   "pygments_lexer": "ipython3",
   "version": "3.8.5"
  }
 },
 "nbformat": 4,
 "nbformat_minor": 4
}
